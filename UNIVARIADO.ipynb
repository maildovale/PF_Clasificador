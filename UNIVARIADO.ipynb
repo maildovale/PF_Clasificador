{
 "cells": [
  {
   "cell_type": "markdown",
   "id": "b8d8ac36",
   "metadata": {},
   "source": [
    "# Análisis Univariado\n",
    "\n",
    "El procedimiento será hacer una tabla estilo dataframe con todas las columnas donde vamos a obtener:\n",
    "\n",
    "Cantidad de Datos Tipo de dato Valores unicos Valores nulos Promedio Máximo Mínimo Quartiles Sesgo y kurtosis Con toda esta info podremos obtener cierta relacion donde determinemos variables numérica o categóricas, cuales tiene mucho variabilidad, promedio y medidas centrales.\n",
    "\n",
    "Luego de eso realizaremos algunos gráficos de variables numéricas y otras categóricas, de datos que nos llamaron la atencion.\n",
    "\n",
    "Tambien es recomendable realizar alguna tabla de frecuencia con algunas variables"
   ]
  },
  {
   "cell_type": "code",
   "execution_count": 1,
   "id": "e5062ff3",
   "metadata": {},
   "outputs": [
    {
     "name": "stdout",
     "output_type": "stream",
     "text": [
      "Requirement already satisfied: sidetable in c:\\programdata\\anaconda3\\lib\\site-packages (0.9.0)\n",
      "Requirement already satisfied: pandas>=1.0 in c:\\programdata\\anaconda3\\lib\\site-packages (from sidetable) (1.3.4)\n",
      "Requirement already satisfied: pytz>=2017.3 in c:\\programdata\\anaconda3\\lib\\site-packages (from pandas>=1.0->sidetable) (2021.3)\n",
      "Requirement already satisfied: python-dateutil>=2.7.3 in c:\\programdata\\anaconda3\\lib\\site-packages (from pandas>=1.0->sidetable) (2.8.2)\n",
      "Requirement already satisfied: numpy>=1.17.3 in c:\\programdata\\anaconda3\\lib\\site-packages (from pandas>=1.0->sidetable) (1.20.3)\n",
      "Requirement already satisfied: six>=1.5 in c:\\programdata\\anaconda3\\lib\\site-packages (from python-dateutil>=2.7.3->pandas>=1.0->sidetable) (1.16.0)\n",
      "Requirement already satisfied: sidetable in c:\\programdata\\anaconda3\\lib\\site-packages (0.9.0)\n",
      "Requirement already satisfied: pandas>=1.0 in c:\\programdata\\anaconda3\\lib\\site-packages (from sidetable) (1.3.4)\n",
      "Requirement already satisfied: numpy>=1.17.3 in c:\\programdata\\anaconda3\\lib\\site-packages (from pandas>=1.0->sidetable) (1.20.3)\n",
      "Requirement already satisfied: python-dateutil>=2.7.3 in c:\\programdata\\anaconda3\\lib\\site-packages (from pandas>=1.0->sidetable) (2.8.2)\n",
      "Requirement already satisfied: pytz>=2017.3 in c:\\programdata\\anaconda3\\lib\\site-packages (from pandas>=1.0->sidetable) (2021.3)\n",
      "Requirement already satisfied: six>=1.5 in c:\\programdata\\anaconda3\\lib\\site-packages (from python-dateutil>=2.7.3->pandas>=1.0->sidetable) (1.16.0)\n"
     ]
    }
   ],
   "source": [
    "#Corremos librerias y EDA para traer el dataframe limpio que estaremos usando\n",
    "%run ./START.ipynb\n",
    "%run ./EDA.ipynb"
   ]
  },
  {
   "cell_type": "code",
   "execution_count": 2,
   "id": "3db382bd",
   "metadata": {},
   "outputs": [
    {
     "data": {
      "text/html": [
       "<div>\n",
       "<style scoped>\n",
       "    .dataframe tbody tr th:only-of-type {\n",
       "        vertical-align: middle;\n",
       "    }\n",
       "\n",
       "    .dataframe tbody tr th {\n",
       "        vertical-align: top;\n",
       "    }\n",
       "\n",
       "    .dataframe thead th {\n",
       "        text-align: right;\n",
       "    }\n",
       "</style>\n",
       "<table border=\"1\" class=\"dataframe\">\n",
       "  <thead>\n",
       "    <tr style=\"text-align: right;\">\n",
       "      <th></th>\n",
       "      <th>OCCUPATION_TYPE</th>\n",
       "      <th>count</th>\n",
       "      <th>percent</th>\n",
       "      <th>cumulative_count</th>\n",
       "      <th>cumulative_percent</th>\n",
       "    </tr>\n",
       "  </thead>\n",
       "  <tbody>\n",
       "    <tr>\n",
       "      <th>0</th>\n",
       "      <td>Laborers</td>\n",
       "      <td>72766</td>\n",
       "      <td>27.070584</td>\n",
       "      <td>72766</td>\n",
       "      <td>27.070584</td>\n",
       "    </tr>\n",
       "    <tr>\n",
       "      <th>1</th>\n",
       "      <td>Core staff</td>\n",
       "      <td>38245</td>\n",
       "      <td>14.227998</td>\n",
       "      <td>111011</td>\n",
       "      <td>41.298581</td>\n",
       "    </tr>\n",
       "    <tr>\n",
       "      <th>2</th>\n",
       "      <td>Sales staff</td>\n",
       "      <td>38155</td>\n",
       "      <td>14.194516</td>\n",
       "      <td>149166</td>\n",
       "      <td>55.493097</td>\n",
       "    </tr>\n",
       "    <tr>\n",
       "      <th>3</th>\n",
       "      <td>Managers</td>\n",
       "      <td>23699</td>\n",
       "      <td>8.816559</td>\n",
       "      <td>172865</td>\n",
       "      <td>64.309657</td>\n",
       "    </tr>\n",
       "    <tr>\n",
       "      <th>4</th>\n",
       "      <td>Drivers</td>\n",
       "      <td>23108</td>\n",
       "      <td>8.596694</td>\n",
       "      <td>195973</td>\n",
       "      <td>72.906351</td>\n",
       "    </tr>\n",
       "    <tr>\n",
       "      <th>5</th>\n",
       "      <td>High skill tech staff</td>\n",
       "      <td>15358</td>\n",
       "      <td>5.713520</td>\n",
       "      <td>211331</td>\n",
       "      <td>78.619871</td>\n",
       "    </tr>\n",
       "    <tr>\n",
       "      <th>6</th>\n",
       "      <td>Accountants</td>\n",
       "      <td>13267</td>\n",
       "      <td>4.935622</td>\n",
       "      <td>224598</td>\n",
       "      <td>83.555493</td>\n",
       "    </tr>\n",
       "    <tr>\n",
       "      <th>7</th>\n",
       "      <td>Medicine staff</td>\n",
       "      <td>12667</td>\n",
       "      <td>4.712408</td>\n",
       "      <td>237265</td>\n",
       "      <td>88.267901</td>\n",
       "    </tr>\n",
       "    <tr>\n",
       "      <th>8</th>\n",
       "      <td>Cooking staff</td>\n",
       "      <td>7738</td>\n",
       "      <td>2.878710</td>\n",
       "      <td>245003</td>\n",
       "      <td>91.146610</td>\n",
       "    </tr>\n",
       "    <tr>\n",
       "      <th>9</th>\n",
       "      <td>Security staff</td>\n",
       "      <td>7456</td>\n",
       "      <td>2.773799</td>\n",
       "      <td>252459</td>\n",
       "      <td>93.920410</td>\n",
       "    </tr>\n",
       "    <tr>\n",
       "      <th>10</th>\n",
       "      <td>Cleaning staff</td>\n",
       "      <td>5641</td>\n",
       "      <td>2.098579</td>\n",
       "      <td>258100</td>\n",
       "      <td>96.018988</td>\n",
       "    </tr>\n",
       "    <tr>\n",
       "      <th>11</th>\n",
       "      <td>Private service staff</td>\n",
       "      <td>3059</td>\n",
       "      <td>1.138017</td>\n",
       "      <td>261159</td>\n",
       "      <td>97.157005</td>\n",
       "    </tr>\n",
       "    <tr>\n",
       "      <th>12</th>\n",
       "      <td>Low-skill Laborers</td>\n",
       "      <td>2083</td>\n",
       "      <td>0.774923</td>\n",
       "      <td>263242</td>\n",
       "      <td>97.931927</td>\n",
       "    </tr>\n",
       "    <tr>\n",
       "      <th>13</th>\n",
       "      <td>Secretaries</td>\n",
       "      <td>1923</td>\n",
       "      <td>0.715399</td>\n",
       "      <td>265165</td>\n",
       "      <td>98.647326</td>\n",
       "    </tr>\n",
       "    <tr>\n",
       "      <th>14</th>\n",
       "      <td>Waiters/barmen staff</td>\n",
       "      <td>1595</td>\n",
       "      <td>0.593376</td>\n",
       "      <td>266760</td>\n",
       "      <td>99.240702</td>\n",
       "    </tr>\n",
       "    <tr>\n",
       "      <th>15</th>\n",
       "      <td>Realty agents</td>\n",
       "      <td>873</td>\n",
       "      <td>0.324776</td>\n",
       "      <td>267633</td>\n",
       "      <td>99.565478</td>\n",
       "    </tr>\n",
       "    <tr>\n",
       "      <th>16</th>\n",
       "      <td>HR staff</td>\n",
       "      <td>671</td>\n",
       "      <td>0.249627</td>\n",
       "      <td>268304</td>\n",
       "      <td>99.815105</td>\n",
       "    </tr>\n",
       "    <tr>\n",
       "      <th>17</th>\n",
       "      <td>IT staff</td>\n",
       "      <td>497</td>\n",
       "      <td>0.184895</td>\n",
       "      <td>268801</td>\n",
       "      <td>100.000000</td>\n",
       "    </tr>\n",
       "  </tbody>\n",
       "</table>\n",
       "</div>"
      ],
      "text/plain": [
       "          OCCUPATION_TYPE  count    percent  cumulative_count  \\\n",
       "0                Laborers  72766  27.070584             72766   \n",
       "1              Core staff  38245  14.227998            111011   \n",
       "2             Sales staff  38155  14.194516            149166   \n",
       "3                Managers  23699   8.816559            172865   \n",
       "4                 Drivers  23108   8.596694            195973   \n",
       "5   High skill tech staff  15358   5.713520            211331   \n",
       "6             Accountants  13267   4.935622            224598   \n",
       "7          Medicine staff  12667   4.712408            237265   \n",
       "8           Cooking staff   7738   2.878710            245003   \n",
       "9          Security staff   7456   2.773799            252459   \n",
       "10         Cleaning staff   5641   2.098579            258100   \n",
       "11  Private service staff   3059   1.138017            261159   \n",
       "12     Low-skill Laborers   2083   0.774923            263242   \n",
       "13            Secretaries   1923   0.715399            265165   \n",
       "14   Waiters/barmen staff   1595   0.593376            266760   \n",
       "15          Realty agents    873   0.324776            267633   \n",
       "16               HR staff    671   0.249627            268304   \n",
       "17               IT staff    497   0.184895            268801   \n",
       "\n",
       "    cumulative_percent  \n",
       "0            27.070584  \n",
       "1            41.298581  \n",
       "2            55.493097  \n",
       "3            64.309657  \n",
       "4            72.906351  \n",
       "5            78.619871  \n",
       "6            83.555493  \n",
       "7            88.267901  \n",
       "8            91.146610  \n",
       "9            93.920410  \n",
       "10           96.018988  \n",
       "11           97.157005  \n",
       "12           97.931927  \n",
       "13           98.647326  \n",
       "14           99.240702  \n",
       "15           99.565478  \n",
       "16           99.815105  \n",
       "17          100.000000  "
      ]
     },
     "execution_count": 2,
     "metadata": {},
     "output_type": "execute_result"
    }
   ],
   "source": [
    "new_df.stb.freq(['OCCUPATION_TYPE'])"
   ]
  },
  {
   "cell_type": "code",
   "execution_count": 3,
   "id": "e6597779",
   "metadata": {
    "scrolled": true
   },
   "outputs": [
    {
     "data": {
      "text/html": [
       "<div>\n",
       "<style scoped>\n",
       "    .dataframe tbody tr th:only-of-type {\n",
       "        vertical-align: middle;\n",
       "    }\n",
       "\n",
       "    .dataframe tbody tr th {\n",
       "        vertical-align: top;\n",
       "    }\n",
       "\n",
       "    .dataframe thead th {\n",
       "        text-align: right;\n",
       "    }\n",
       "</style>\n",
       "<table border=\"1\" class=\"dataframe\">\n",
       "  <thead>\n",
       "    <tr style=\"text-align: right;\">\n",
       "      <th></th>\n",
       "      <th>CODE_GENDER</th>\n",
       "      <th>count</th>\n",
       "      <th>percent</th>\n",
       "      <th>cumulative_count</th>\n",
       "      <th>cumulative_percent</th>\n",
       "    </tr>\n",
       "  </thead>\n",
       "  <tbody>\n",
       "    <tr>\n",
       "      <th>0</th>\n",
       "      <td>F</td>\n",
       "      <td>172599</td>\n",
       "      <td>64.210699</td>\n",
       "      <td>172599</td>\n",
       "      <td>64.210699</td>\n",
       "    </tr>\n",
       "    <tr>\n",
       "      <th>1</th>\n",
       "      <td>M</td>\n",
       "      <td>96202</td>\n",
       "      <td>35.789301</td>\n",
       "      <td>268801</td>\n",
       "      <td>100.000000</td>\n",
       "    </tr>\n",
       "  </tbody>\n",
       "</table>\n",
       "</div>"
      ],
      "text/plain": [
       "  CODE_GENDER   count    percent  cumulative_count  cumulative_percent\n",
       "0           F  172599  64.210699            172599           64.210699\n",
       "1           M   96202  35.789301            268801          100.000000"
      ]
     },
     "execution_count": 3,
     "metadata": {},
     "output_type": "execute_result"
    }
   ],
   "source": [
    "new_df.stb.freq(['CODE_GENDER'])"
   ]
  },
  {
   "cell_type": "code",
   "execution_count": 4,
   "id": "f5c216f2",
   "metadata": {
    "scrolled": true
   },
   "outputs": [
    {
     "data": {
      "text/html": [
       "<div>\n",
       "<style scoped>\n",
       "    .dataframe tbody tr th:only-of-type {\n",
       "        vertical-align: middle;\n",
       "    }\n",
       "\n",
       "    .dataframe tbody tr th {\n",
       "        vertical-align: top;\n",
       "    }\n",
       "\n",
       "    .dataframe thead th {\n",
       "        text-align: right;\n",
       "    }\n",
       "</style>\n",
       "<table border=\"1\" class=\"dataframe\">\n",
       "  <thead>\n",
       "    <tr style=\"text-align: right;\">\n",
       "      <th></th>\n",
       "      <th>NAME_INCOME_TYPE</th>\n",
       "      <th>count</th>\n",
       "      <th>percent</th>\n",
       "      <th>cumulative_count</th>\n",
       "      <th>cumulative_percent</th>\n",
       "    </tr>\n",
       "  </thead>\n",
       "  <tbody>\n",
       "    <tr>\n",
       "      <th>0</th>\n",
       "      <td>Working</td>\n",
       "      <td>173751</td>\n",
       "      <td>64.639268</td>\n",
       "      <td>173751</td>\n",
       "      <td>64.639268</td>\n",
       "    </tr>\n",
       "    <tr>\n",
       "      <th>1</th>\n",
       "      <td>Commercial associate</td>\n",
       "      <td>68955</td>\n",
       "      <td>25.652806</td>\n",
       "      <td>242706</td>\n",
       "      <td>90.292075</td>\n",
       "    </tr>\n",
       "    <tr>\n",
       "      <th>2</th>\n",
       "      <td>State servant</td>\n",
       "      <td>25967</td>\n",
       "      <td>9.660306</td>\n",
       "      <td>268673</td>\n",
       "      <td>99.952381</td>\n",
       "    </tr>\n",
       "    <tr>\n",
       "      <th>3</th>\n",
       "      <td>Pensioner</td>\n",
       "      <td>116</td>\n",
       "      <td>0.043155</td>\n",
       "      <td>268789</td>\n",
       "      <td>99.995536</td>\n",
       "    </tr>\n",
       "    <tr>\n",
       "      <th>4</th>\n",
       "      <td>Student</td>\n",
       "      <td>12</td>\n",
       "      <td>0.004464</td>\n",
       "      <td>268801</td>\n",
       "      <td>100.000000</td>\n",
       "    </tr>\n",
       "  </tbody>\n",
       "</table>\n",
       "</div>"
      ],
      "text/plain": [
       "       NAME_INCOME_TYPE   count    percent  cumulative_count  \\\n",
       "0               Working  173751  64.639268            173751   \n",
       "1  Commercial associate   68955  25.652806            242706   \n",
       "2         State servant   25967   9.660306            268673   \n",
       "3             Pensioner     116   0.043155            268789   \n",
       "4               Student      12   0.004464            268801   \n",
       "\n",
       "   cumulative_percent  \n",
       "0           64.639268  \n",
       "1           90.292075  \n",
       "2           99.952381  \n",
       "3           99.995536  \n",
       "4          100.000000  "
      ]
     },
     "execution_count": 4,
     "metadata": {},
     "output_type": "execute_result"
    }
   ],
   "source": [
    "new_df.stb.freq(['NAME_INCOME_TYPE'])"
   ]
  },
  {
   "cell_type": "markdown",
   "id": "fae27ab9",
   "metadata": {},
   "source": [
    "**Conclusiones:**\n",
    "\n",
    "* En la variable \"OCCUPATION_TYPE\" vemos que la mayoría de la población que solicitan prestamos son Laborers, mientras que los que menos lo hacen son \"IT staff\" \n",
    "* En la variable \"CODE_GENDER\" EL 64,21% de la población que pide préstamos es femenina mientras que el 35,78% es masculina. \n",
    "* La variable \"NAME_INCOME_TYPE\" nos dice que más de la mitad de la población ejerce algún tipo de trabajo (64,63%)."
   ]
  },
  {
   "cell_type": "code",
   "execution_count": 5,
   "id": "b62021d0",
   "metadata": {},
   "outputs": [
    {
     "data": {
      "text/html": [
       "<div>\n",
       "<style scoped>\n",
       "    .dataframe tbody tr th:only-of-type {\n",
       "        vertical-align: middle;\n",
       "    }\n",
       "\n",
       "    .dataframe tbody tr th {\n",
       "        vertical-align: top;\n",
       "    }\n",
       "\n",
       "    .dataframe thead th {\n",
       "        text-align: right;\n",
       "    }\n",
       "</style>\n",
       "<table border=\"1\" class=\"dataframe\">\n",
       "  <thead>\n",
       "    <tr style=\"text-align: right;\">\n",
       "      <th></th>\n",
       "      <th>NAME_HOUSING_TYPE</th>\n",
       "      <th>count</th>\n",
       "      <th>percent</th>\n",
       "      <th>cumulative_count</th>\n",
       "      <th>cumulative_percent</th>\n",
       "    </tr>\n",
       "  </thead>\n",
       "  <tbody>\n",
       "    <tr>\n",
       "      <th>0</th>\n",
       "      <td>House / apartment</td>\n",
       "      <td>238120</td>\n",
       "      <td>88.585980</td>\n",
       "      <td>238120</td>\n",
       "      <td>88.585980</td>\n",
       "    </tr>\n",
       "    <tr>\n",
       "      <th>1</th>\n",
       "      <td>With parents</td>\n",
       "      <td>14465</td>\n",
       "      <td>5.381304</td>\n",
       "      <td>252585</td>\n",
       "      <td>93.967284</td>\n",
       "    </tr>\n",
       "    <tr>\n",
       "      <th>2</th>\n",
       "      <td>Municipal apartment</td>\n",
       "      <td>8440</td>\n",
       "      <td>3.139869</td>\n",
       "      <td>261025</td>\n",
       "      <td>97.107154</td>\n",
       "    </tr>\n",
       "    <tr>\n",
       "      <th>3</th>\n",
       "      <td>Rented apartment</td>\n",
       "      <td>4255</td>\n",
       "      <td>1.582955</td>\n",
       "      <td>265280</td>\n",
       "      <td>98.690109</td>\n",
       "    </tr>\n",
       "    <tr>\n",
       "      <th>4</th>\n",
       "      <td>Office apartment</td>\n",
       "      <td>2464</td>\n",
       "      <td>0.916663</td>\n",
       "      <td>267744</td>\n",
       "      <td>99.606772</td>\n",
       "    </tr>\n",
       "    <tr>\n",
       "      <th>5</th>\n",
       "      <td>Co-op apartment</td>\n",
       "      <td>1057</td>\n",
       "      <td>0.393228</td>\n",
       "      <td>268801</td>\n",
       "      <td>100.000000</td>\n",
       "    </tr>\n",
       "  </tbody>\n",
       "</table>\n",
       "</div>"
      ],
      "text/plain": [
       "     NAME_HOUSING_TYPE   count    percent  cumulative_count  \\\n",
       "0    House / apartment  238120  88.585980            238120   \n",
       "1         With parents   14465   5.381304            252585   \n",
       "2  Municipal apartment    8440   3.139869            261025   \n",
       "3     Rented apartment    4255   1.582955            265280   \n",
       "4     Office apartment    2464   0.916663            267744   \n",
       "5      Co-op apartment    1057   0.393228            268801   \n",
       "\n",
       "   cumulative_percent  \n",
       "0           88.585980  \n",
       "1           93.967284  \n",
       "2           97.107154  \n",
       "3           98.690109  \n",
       "4           99.606772  \n",
       "5          100.000000  "
      ]
     },
     "execution_count": 5,
     "metadata": {},
     "output_type": "execute_result"
    }
   ],
   "source": [
    "new_df.stb.freq(['NAME_HOUSING_TYPE'])"
   ]
  },
  {
   "cell_type": "code",
   "execution_count": 6,
   "id": "45aca48b",
   "metadata": {},
   "outputs": [
    {
     "data": {
      "text/html": [
       "<div>\n",
       "<style scoped>\n",
       "    .dataframe tbody tr th:only-of-type {\n",
       "        vertical-align: middle;\n",
       "    }\n",
       "\n",
       "    .dataframe tbody tr th {\n",
       "        vertical-align: top;\n",
       "    }\n",
       "\n",
       "    .dataframe thead th {\n",
       "        text-align: right;\n",
       "    }\n",
       "</style>\n",
       "<table border=\"1\" class=\"dataframe\">\n",
       "  <thead>\n",
       "    <tr style=\"text-align: right;\">\n",
       "      <th></th>\n",
       "      <th>NAME_FAMILY_STATUS</th>\n",
       "      <th>count</th>\n",
       "      <th>percent</th>\n",
       "      <th>cumulative_count</th>\n",
       "      <th>cumulative_percent</th>\n",
       "    </tr>\n",
       "  </thead>\n",
       "  <tbody>\n",
       "    <tr>\n",
       "      <th>0</th>\n",
       "      <td>Married</td>\n",
       "      <td>187987</td>\n",
       "      <td>69.935380</td>\n",
       "      <td>187987</td>\n",
       "      <td>69.935380</td>\n",
       "    </tr>\n",
       "    <tr>\n",
       "      <th>1</th>\n",
       "      <td>Single / not married</td>\n",
       "      <td>34975</td>\n",
       "      <td>13.011484</td>\n",
       "      <td>222962</td>\n",
       "      <td>82.946864</td>\n",
       "    </tr>\n",
       "    <tr>\n",
       "      <th>2</th>\n",
       "      <td>Civil marriage</td>\n",
       "      <td>23804</td>\n",
       "      <td>8.855622</td>\n",
       "      <td>246766</td>\n",
       "      <td>91.802486</td>\n",
       "    </tr>\n",
       "    <tr>\n",
       "      <th>3</th>\n",
       "      <td>Separated</td>\n",
       "      <td>16067</td>\n",
       "      <td>5.977284</td>\n",
       "      <td>262833</td>\n",
       "      <td>97.779770</td>\n",
       "    </tr>\n",
       "    <tr>\n",
       "      <th>4</th>\n",
       "      <td>Widow</td>\n",
       "      <td>5968</td>\n",
       "      <td>2.220230</td>\n",
       "      <td>268801</td>\n",
       "      <td>100.000000</td>\n",
       "    </tr>\n",
       "  </tbody>\n",
       "</table>\n",
       "</div>"
      ],
      "text/plain": [
       "     NAME_FAMILY_STATUS   count    percent  cumulative_count  \\\n",
       "0               Married  187987  69.935380            187987   \n",
       "1  Single / not married   34975  13.011484            222962   \n",
       "2        Civil marriage   23804   8.855622            246766   \n",
       "3             Separated   16067   5.977284            262833   \n",
       "4                 Widow    5968   2.220230            268801   \n",
       "\n",
       "   cumulative_percent  \n",
       "0           69.935380  \n",
       "1           82.946864  \n",
       "2           91.802486  \n",
       "3           97.779770  \n",
       "4          100.000000  "
      ]
     },
     "execution_count": 6,
     "metadata": {},
     "output_type": "execute_result"
    }
   ],
   "source": [
    "new_df.stb.freq(['NAME_FAMILY_STATUS'])"
   ]
  },
  {
   "cell_type": "code",
   "execution_count": 7,
   "id": "b738f20f",
   "metadata": {
    "scrolled": true
   },
   "outputs": [
    {
     "data": {
      "text/html": [
       "<div>\n",
       "<style scoped>\n",
       "    .dataframe tbody tr th:only-of-type {\n",
       "        vertical-align: middle;\n",
       "    }\n",
       "\n",
       "    .dataframe tbody tr th {\n",
       "        vertical-align: top;\n",
       "    }\n",
       "\n",
       "    .dataframe thead th {\n",
       "        text-align: right;\n",
       "    }\n",
       "</style>\n",
       "<table border=\"1\" class=\"dataframe\">\n",
       "  <thead>\n",
       "    <tr style=\"text-align: right;\">\n",
       "      <th></th>\n",
       "      <th>FLAG_OWN_CAR</th>\n",
       "      <th>count</th>\n",
       "      <th>percent</th>\n",
       "      <th>cumulative_count</th>\n",
       "      <th>cumulative_percent</th>\n",
       "    </tr>\n",
       "  </thead>\n",
       "  <tbody>\n",
       "    <tr>\n",
       "      <th>0</th>\n",
       "      <td>N</td>\n",
       "      <td>163797</td>\n",
       "      <td>60.936157</td>\n",
       "      <td>163797</td>\n",
       "      <td>60.936157</td>\n",
       "    </tr>\n",
       "    <tr>\n",
       "      <th>1</th>\n",
       "      <td>Y</td>\n",
       "      <td>105004</td>\n",
       "      <td>39.063843</td>\n",
       "      <td>268801</td>\n",
       "      <td>100.000000</td>\n",
       "    </tr>\n",
       "  </tbody>\n",
       "</table>\n",
       "</div>"
      ],
      "text/plain": [
       "  FLAG_OWN_CAR   count    percent  cumulative_count  cumulative_percent\n",
       "0            N  163797  60.936157            163797           60.936157\n",
       "1            Y  105004  39.063843            268801          100.000000"
      ]
     },
     "execution_count": 7,
     "metadata": {},
     "output_type": "execute_result"
    }
   ],
   "source": [
    "new_df.stb.freq(['FLAG_OWN_CAR'])"
   ]
  },
  {
   "cell_type": "markdown",
   "id": "e7c97e3c",
   "metadata": {},
   "source": [
    "**Conclusiones:**\n",
    "\n",
    "* En la variable 'NAME_HOUSING_TYPE' 88% de la población analizada vive en una casa/apartamento en comparación con las demás categorías (5) que suman el 11%.\n",
    "* En la variable 'NAME_FAMILY_STATUS' el 78.7% de la población analizada está en una relación legalmente registrada sea por Matrimonio simple o civil a diferencia del otro 20% que está en otro estado civil y el hecho de tener pareja también podría indicar que haya un mayor aporte económico entre ambas partes, de allí una estabilidad en vivienda. \n",
    "* En la variable FLAG_OWN_CAR' el 60% de la población no posee un vehículo propio en comparación con el 39% restante\n",
    "* Con lo ante podemos observar que las cifras de la primera y la segunda variable están cerca y podría haber alguna correlación."
   ]
  },
  {
   "cell_type": "code",
   "execution_count": 8,
   "id": "958e5696",
   "metadata": {},
   "outputs": [
    {
     "data": {
      "text/html": [
       "<div>\n",
       "<style scoped>\n",
       "    .dataframe tbody tr th:only-of-type {\n",
       "        vertical-align: middle;\n",
       "    }\n",
       "\n",
       "    .dataframe tbody tr th {\n",
       "        vertical-align: top;\n",
       "    }\n",
       "\n",
       "    .dataframe thead th {\n",
       "        text-align: right;\n",
       "    }\n",
       "</style>\n",
       "<table border=\"1\" class=\"dataframe\">\n",
       "  <thead>\n",
       "    <tr style=\"text-align: right;\">\n",
       "      <th></th>\n",
       "      <th>NAME_EDUCATION_TYPE</th>\n",
       "      <th>count</th>\n",
       "      <th>percent</th>\n",
       "      <th>cumulative_count</th>\n",
       "      <th>cumulative_percent</th>\n",
       "    </tr>\n",
       "  </thead>\n",
       "  <tbody>\n",
       "    <tr>\n",
       "      <th>0</th>\n",
       "      <td>Secondary / secondary special</td>\n",
       "      <td>188401</td>\n",
       "      <td>70.089397</td>\n",
       "      <td>188401</td>\n",
       "      <td>70.089397</td>\n",
       "    </tr>\n",
       "    <tr>\n",
       "      <th>1</th>\n",
       "      <td>Higher education</td>\n",
       "      <td>68328</td>\n",
       "      <td>25.419548</td>\n",
       "      <td>256729</td>\n",
       "      <td>95.508945</td>\n",
       "    </tr>\n",
       "    <tr>\n",
       "      <th>2</th>\n",
       "      <td>Incomplete higher</td>\n",
       "      <td>9936</td>\n",
       "      <td>3.696415</td>\n",
       "      <td>266665</td>\n",
       "      <td>99.205360</td>\n",
       "    </tr>\n",
       "    <tr>\n",
       "      <th>3</th>\n",
       "      <td>Lower secondary</td>\n",
       "      <td>1945</td>\n",
       "      <td>0.723584</td>\n",
       "      <td>268610</td>\n",
       "      <td>99.928944</td>\n",
       "    </tr>\n",
       "    <tr>\n",
       "      <th>4</th>\n",
       "      <td>Academic degree</td>\n",
       "      <td>191</td>\n",
       "      <td>0.071056</td>\n",
       "      <td>268801</td>\n",
       "      <td>100.000000</td>\n",
       "    </tr>\n",
       "  </tbody>\n",
       "</table>\n",
       "</div>"
      ],
      "text/plain": [
       "             NAME_EDUCATION_TYPE   count    percent  cumulative_count  \\\n",
       "0  Secondary / secondary special  188401  70.089397            188401   \n",
       "1               Higher education   68328  25.419548            256729   \n",
       "2              Incomplete higher    9936   3.696415            266665   \n",
       "3                Lower secondary    1945   0.723584            268610   \n",
       "4                Academic degree     191   0.071056            268801   \n",
       "\n",
       "   cumulative_percent  \n",
       "0           70.089397  \n",
       "1           95.508945  \n",
       "2           99.205360  \n",
       "3           99.928944  \n",
       "4          100.000000  "
      ]
     },
     "execution_count": 8,
     "metadata": {},
     "output_type": "execute_result"
    }
   ],
   "source": [
    "new_df.stb.freq(['NAME_EDUCATION_TYPE'])"
   ]
  },
  {
   "cell_type": "code",
   "execution_count": 9,
   "id": "7bc4fc76",
   "metadata": {},
   "outputs": [
    {
     "data": {
      "text/html": [
       "<div>\n",
       "<style scoped>\n",
       "    .dataframe tbody tr th:only-of-type {\n",
       "        vertical-align: middle;\n",
       "    }\n",
       "\n",
       "    .dataframe tbody tr th {\n",
       "        vertical-align: top;\n",
       "    }\n",
       "\n",
       "    .dataframe thead th {\n",
       "        text-align: right;\n",
       "    }\n",
       "</style>\n",
       "<table border=\"1\" class=\"dataframe\">\n",
       "  <thead>\n",
       "    <tr style=\"text-align: right;\">\n",
       "      <th></th>\n",
       "      <th>DAYS_BIRTH</th>\n",
       "      <th>count</th>\n",
       "      <th>percent</th>\n",
       "      <th>cumulative_count</th>\n",
       "      <th>cumulative_percent</th>\n",
       "    </tr>\n",
       "  </thead>\n",
       "  <tbody>\n",
       "    <tr>\n",
       "      <th>0</th>\n",
       "      <td>-11707</td>\n",
       "      <td>134</td>\n",
       "      <td>0.049851</td>\n",
       "      <td>134</td>\n",
       "      <td>0.049851</td>\n",
       "    </tr>\n",
       "    <tr>\n",
       "      <th>1</th>\n",
       "      <td>-14178</td>\n",
       "      <td>112</td>\n",
       "      <td>0.041667</td>\n",
       "      <td>246</td>\n",
       "      <td>0.091518</td>\n",
       "    </tr>\n",
       "    <tr>\n",
       "      <th>2</th>\n",
       "      <td>-14055</td>\n",
       "      <td>98</td>\n",
       "      <td>0.036458</td>\n",
       "      <td>344</td>\n",
       "      <td>0.127976</td>\n",
       "    </tr>\n",
       "    <tr>\n",
       "      <th>3</th>\n",
       "      <td>-15675</td>\n",
       "      <td>98</td>\n",
       "      <td>0.036458</td>\n",
       "      <td>442</td>\n",
       "      <td>0.164434</td>\n",
       "    </tr>\n",
       "    <tr>\n",
       "      <th>4</th>\n",
       "      <td>-10312</td>\n",
       "      <td>96</td>\n",
       "      <td>0.035714</td>\n",
       "      <td>538</td>\n",
       "      <td>0.200148</td>\n",
       "    </tr>\n",
       "    <tr>\n",
       "      <th>...</th>\n",
       "      <td>...</td>\n",
       "      <td>...</td>\n",
       "      <td>...</td>\n",
       "      <td>...</td>\n",
       "      <td>...</td>\n",
       "    </tr>\n",
       "    <tr>\n",
       "      <th>13939</th>\n",
       "      <td>-24489</td>\n",
       "      <td>1</td>\n",
       "      <td>0.000372</td>\n",
       "      <td>268797</td>\n",
       "      <td>99.998512</td>\n",
       "    </tr>\n",
       "    <tr>\n",
       "      <th>13940</th>\n",
       "      <td>-24592</td>\n",
       "      <td>1</td>\n",
       "      <td>0.000372</td>\n",
       "      <td>268798</td>\n",
       "      <td>99.998884</td>\n",
       "    </tr>\n",
       "    <tr>\n",
       "      <th>13941</th>\n",
       "      <td>-24608</td>\n",
       "      <td>1</td>\n",
       "      <td>0.000372</td>\n",
       "      <td>268799</td>\n",
       "      <td>99.999256</td>\n",
       "    </tr>\n",
       "    <tr>\n",
       "      <th>13942</th>\n",
       "      <td>-24642</td>\n",
       "      <td>1</td>\n",
       "      <td>0.000372</td>\n",
       "      <td>268800</td>\n",
       "      <td>99.999628</td>\n",
       "    </tr>\n",
       "    <tr>\n",
       "      <th>13943</th>\n",
       "      <td>-24750</td>\n",
       "      <td>1</td>\n",
       "      <td>0.000372</td>\n",
       "      <td>268801</td>\n",
       "      <td>100.000000</td>\n",
       "    </tr>\n",
       "  </tbody>\n",
       "</table>\n",
       "<p>13944 rows × 5 columns</p>\n",
       "</div>"
      ],
      "text/plain": [
       "       DAYS_BIRTH  count   percent  cumulative_count  cumulative_percent\n",
       "0          -11707    134  0.049851               134            0.049851\n",
       "1          -14178    112  0.041667               246            0.091518\n",
       "2          -14055     98  0.036458               344            0.127976\n",
       "3          -15675     98  0.036458               442            0.164434\n",
       "4          -10312     96  0.035714               538            0.200148\n",
       "...           ...    ...       ...               ...                 ...\n",
       "13939      -24489      1  0.000372            268797           99.998512\n",
       "13940      -24592      1  0.000372            268798           99.998884\n",
       "13941      -24608      1  0.000372            268799           99.999256\n",
       "13942      -24642      1  0.000372            268800           99.999628\n",
       "13943      -24750      1  0.000372            268801          100.000000\n",
       "\n",
       "[13944 rows x 5 columns]"
      ]
     },
     "execution_count": 9,
     "metadata": {},
     "output_type": "execute_result"
    }
   ],
   "source": [
    "new_df.stb.freq(['DAYS_BIRTH'])"
   ]
  },
  {
   "cell_type": "code",
   "execution_count": 10,
   "id": "beb680d3",
   "metadata": {},
   "outputs": [
    {
     "data": {
      "text/html": [
       "<div>\n",
       "<style scoped>\n",
       "    .dataframe tbody tr th:only-of-type {\n",
       "        vertical-align: middle;\n",
       "    }\n",
       "\n",
       "    .dataframe tbody tr th {\n",
       "        vertical-align: top;\n",
       "    }\n",
       "\n",
       "    .dataframe thead th {\n",
       "        text-align: right;\n",
       "    }\n",
       "</style>\n",
       "<table border=\"1\" class=\"dataframe\">\n",
       "  <thead>\n",
       "    <tr style=\"text-align: right;\">\n",
       "      <th></th>\n",
       "      <th>DAYS_EMPLOYED</th>\n",
       "      <th>count</th>\n",
       "      <th>percent</th>\n",
       "      <th>cumulative_count</th>\n",
       "      <th>cumulative_percent</th>\n",
       "    </tr>\n",
       "  </thead>\n",
       "  <tbody>\n",
       "    <tr>\n",
       "      <th>0</th>\n",
       "      <td>-2317</td>\n",
       "      <td>212</td>\n",
       "      <td>0.078869</td>\n",
       "      <td>212</td>\n",
       "      <td>0.078869</td>\n",
       "    </tr>\n",
       "    <tr>\n",
       "      <th>1</th>\n",
       "      <td>-978</td>\n",
       "      <td>199</td>\n",
       "      <td>0.074032</td>\n",
       "      <td>411</td>\n",
       "      <td>0.152901</td>\n",
       "    </tr>\n",
       "    <tr>\n",
       "      <th>2</th>\n",
       "      <td>-218</td>\n",
       "      <td>194</td>\n",
       "      <td>0.072172</td>\n",
       "      <td>605</td>\n",
       "      <td>0.225074</td>\n",
       "    </tr>\n",
       "    <tr>\n",
       "      <th>3</th>\n",
       "      <td>-186</td>\n",
       "      <td>189</td>\n",
       "      <td>0.070312</td>\n",
       "      <td>794</td>\n",
       "      <td>0.295386</td>\n",
       "    </tr>\n",
       "    <tr>\n",
       "      <th>4</th>\n",
       "      <td>-1009</td>\n",
       "      <td>187</td>\n",
       "      <td>0.069568</td>\n",
       "      <td>981</td>\n",
       "      <td>0.364954</td>\n",
       "    </tr>\n",
       "    <tr>\n",
       "      <th>...</th>\n",
       "      <td>...</td>\n",
       "      <td>...</td>\n",
       "      <td>...</td>\n",
       "      <td>...</td>\n",
       "      <td>...</td>\n",
       "    </tr>\n",
       "    <tr>\n",
       "      <th>8711</th>\n",
       "      <td>-14208</td>\n",
       "      <td>1</td>\n",
       "      <td>0.000372</td>\n",
       "      <td>268797</td>\n",
       "      <td>99.998512</td>\n",
       "    </tr>\n",
       "    <tr>\n",
       "      <th>8712</th>\n",
       "      <td>-14910</td>\n",
       "      <td>1</td>\n",
       "      <td>0.000372</td>\n",
       "      <td>268798</td>\n",
       "      <td>99.998884</td>\n",
       "    </tr>\n",
       "    <tr>\n",
       "      <th>8713</th>\n",
       "      <td>-15524</td>\n",
       "      <td>1</td>\n",
       "      <td>0.000372</td>\n",
       "      <td>268799</td>\n",
       "      <td>99.999256</td>\n",
       "    </tr>\n",
       "    <tr>\n",
       "      <th>8714</th>\n",
       "      <td>-16135</td>\n",
       "      <td>1</td>\n",
       "      <td>0.000372</td>\n",
       "      <td>268800</td>\n",
       "      <td>99.999628</td>\n",
       "    </tr>\n",
       "    <tr>\n",
       "      <th>8715</th>\n",
       "      <td>-16767</td>\n",
       "      <td>1</td>\n",
       "      <td>0.000372</td>\n",
       "      <td>268801</td>\n",
       "      <td>100.000000</td>\n",
       "    </tr>\n",
       "  </tbody>\n",
       "</table>\n",
       "<p>8716 rows × 5 columns</p>\n",
       "</div>"
      ],
      "text/plain": [
       "      DAYS_EMPLOYED  count   percent  cumulative_count  cumulative_percent\n",
       "0             -2317    212  0.078869               212            0.078869\n",
       "1              -978    199  0.074032               411            0.152901\n",
       "2              -218    194  0.072172               605            0.225074\n",
       "3              -186    189  0.070312               794            0.295386\n",
       "4             -1009    187  0.069568               981            0.364954\n",
       "...             ...    ...       ...               ...                 ...\n",
       "8711         -14208      1  0.000372            268797           99.998512\n",
       "8712         -14910      1  0.000372            268798           99.998884\n",
       "8713         -15524      1  0.000372            268799           99.999256\n",
       "8714         -16135      1  0.000372            268800           99.999628\n",
       "8715         -16767      1  0.000372            268801          100.000000\n",
       "\n",
       "[8716 rows x 5 columns]"
      ]
     },
     "execution_count": 10,
     "metadata": {},
     "output_type": "execute_result"
    }
   ],
   "source": [
    "new_df.stb.freq(['DAYS_EMPLOYED'])"
   ]
  },
  {
   "cell_type": "code",
   "execution_count": 11,
   "id": "0341d840",
   "metadata": {
    "scrolled": true
   },
   "outputs": [
    {
     "data": {
      "text/html": [
       "<div>\n",
       "<style scoped>\n",
       "    .dataframe tbody tr th:only-of-type {\n",
       "        vertical-align: middle;\n",
       "    }\n",
       "\n",
       "    .dataframe tbody tr th {\n",
       "        vertical-align: top;\n",
       "    }\n",
       "\n",
       "    .dataframe thead th {\n",
       "        text-align: right;\n",
       "    }\n",
       "</style>\n",
       "<table border=\"1\" class=\"dataframe\">\n",
       "  <thead>\n",
       "    <tr style=\"text-align: right;\">\n",
       "      <th></th>\n",
       "      <th>CNT_CHILDREN</th>\n",
       "      <th>count</th>\n",
       "      <th>percent</th>\n",
       "      <th>cumulative_count</th>\n",
       "      <th>cumulative_percent</th>\n",
       "    </tr>\n",
       "  </thead>\n",
       "  <tbody>\n",
       "    <tr>\n",
       "      <th>0</th>\n",
       "      <td>0</td>\n",
       "      <td>170076</td>\n",
       "      <td>63.272086</td>\n",
       "      <td>170076</td>\n",
       "      <td>63.272086</td>\n",
       "    </tr>\n",
       "    <tr>\n",
       "      <th>1</th>\n",
       "      <td>1</td>\n",
       "      <td>64570</td>\n",
       "      <td>24.021488</td>\n",
       "      <td>234646</td>\n",
       "      <td>87.293574</td>\n",
       "    </tr>\n",
       "    <tr>\n",
       "      <th>2</th>\n",
       "      <td>2</td>\n",
       "      <td>29829</td>\n",
       "      <td>11.097057</td>\n",
       "      <td>264475</td>\n",
       "      <td>98.390631</td>\n",
       "    </tr>\n",
       "    <tr>\n",
       "      <th>3</th>\n",
       "      <td>3</td>\n",
       "      <td>3863</td>\n",
       "      <td>1.437123</td>\n",
       "      <td>268338</td>\n",
       "      <td>99.827754</td>\n",
       "    </tr>\n",
       "    <tr>\n",
       "      <th>4</th>\n",
       "      <td>4</td>\n",
       "      <td>355</td>\n",
       "      <td>0.132068</td>\n",
       "      <td>268693</td>\n",
       "      <td>99.959822</td>\n",
       "    </tr>\n",
       "    <tr>\n",
       "      <th>5</th>\n",
       "      <td>5</td>\n",
       "      <td>108</td>\n",
       "      <td>0.040178</td>\n",
       "      <td>268801</td>\n",
       "      <td>100.000000</td>\n",
       "    </tr>\n",
       "  </tbody>\n",
       "</table>\n",
       "</div>"
      ],
      "text/plain": [
       "   CNT_CHILDREN   count    percent  cumulative_count  cumulative_percent\n",
       "0             0  170076  63.272086            170076           63.272086\n",
       "1             1   64570  24.021488            234646           87.293574\n",
       "2             2   29829  11.097057            264475           98.390631\n",
       "3             3    3863   1.437123            268338           99.827754\n",
       "4             4     355   0.132068            268693           99.959822\n",
       "5             5     108   0.040178            268801          100.000000"
      ]
     },
     "execution_count": 11,
     "metadata": {},
     "output_type": "execute_result"
    }
   ],
   "source": [
    "new_df.stb.freq(['CNT_CHILDREN'])"
   ]
  },
  {
   "cell_type": "markdown",
   "id": "a0d537b7",
   "metadata": {},
   "source": [
    "**Conclusiones:**\n",
    "\n",
    "*   Podemos ver que mas de la mitad, con un 70.08%, de la población tiene un nivel de estudio Secundario y el segundo con mas porcentaje es universitario con un 25.42%\n",
    "*   Se puede observar que la columna DAYS_BIRTH tiene 134 de la población con -11707\n",
    "\n",
    "*   Podemos notar que tenemos 0.078% de la población tiene -2317 días de trabajo\n",
    "\n",
    "*   El 63.27% de la poblacipon no tiene hijos, el 24.02% tiene 1 solo hijo, y el 11.09% tiene 3 hijos. "
   ]
  },
  {
   "cell_type": "code",
   "execution_count": 12,
   "id": "77ca984f",
   "metadata": {},
   "outputs": [
    {
     "data": {
      "text/html": [
       "<div>\n",
       "<style scoped>\n",
       "    .dataframe tbody tr th:only-of-type {\n",
       "        vertical-align: middle;\n",
       "    }\n",
       "\n",
       "    .dataframe tbody tr th {\n",
       "        vertical-align: top;\n",
       "    }\n",
       "\n",
       "    .dataframe thead th {\n",
       "        text-align: right;\n",
       "    }\n",
       "</style>\n",
       "<table border=\"1\" class=\"dataframe\">\n",
       "  <thead>\n",
       "    <tr style=\"text-align: right;\">\n",
       "      <th></th>\n",
       "      <th>FLAG_MOBIL</th>\n",
       "      <th>count</th>\n",
       "      <th>percent</th>\n",
       "      <th>cumulative_count</th>\n",
       "      <th>cumulative_percent</th>\n",
       "    </tr>\n",
       "  </thead>\n",
       "  <tbody>\n",
       "    <tr>\n",
       "      <th>0</th>\n",
       "      <td>1</td>\n",
       "      <td>268801</td>\n",
       "      <td>100.0</td>\n",
       "      <td>268801</td>\n",
       "      <td>100.0</td>\n",
       "    </tr>\n",
       "  </tbody>\n",
       "</table>\n",
       "</div>"
      ],
      "text/plain": [
       "   FLAG_MOBIL   count  percent  cumulative_count  cumulative_percent\n",
       "0           1  268801    100.0            268801               100.0"
      ]
     },
     "execution_count": 12,
     "metadata": {},
     "output_type": "execute_result"
    }
   ],
   "source": [
    "new_df.stb.freq(['FLAG_MOBIL'])"
   ]
  },
  {
   "cell_type": "code",
   "execution_count": 13,
   "id": "144be7c3",
   "metadata": {},
   "outputs": [
    {
     "data": {
      "text/html": [
       "<div>\n",
       "<style scoped>\n",
       "    .dataframe tbody tr th:only-of-type {\n",
       "        vertical-align: middle;\n",
       "    }\n",
       "\n",
       "    .dataframe tbody tr th {\n",
       "        vertical-align: top;\n",
       "    }\n",
       "\n",
       "    .dataframe thead th {\n",
       "        text-align: right;\n",
       "    }\n",
       "</style>\n",
       "<table border=\"1\" class=\"dataframe\">\n",
       "  <thead>\n",
       "    <tr style=\"text-align: right;\">\n",
       "      <th></th>\n",
       "      <th>FLAG_PHONE</th>\n",
       "      <th>count</th>\n",
       "      <th>percent</th>\n",
       "      <th>cumulative_count</th>\n",
       "      <th>cumulative_percent</th>\n",
       "    </tr>\n",
       "  </thead>\n",
       "  <tbody>\n",
       "    <tr>\n",
       "      <th>0</th>\n",
       "      <td>0</td>\n",
       "      <td>192634</td>\n",
       "      <td>71.664168</td>\n",
       "      <td>192634</td>\n",
       "      <td>71.664168</td>\n",
       "    </tr>\n",
       "    <tr>\n",
       "      <th>1</th>\n",
       "      <td>1</td>\n",
       "      <td>76167</td>\n",
       "      <td>28.335832</td>\n",
       "      <td>268801</td>\n",
       "      <td>100.000000</td>\n",
       "    </tr>\n",
       "  </tbody>\n",
       "</table>\n",
       "</div>"
      ],
      "text/plain": [
       "   FLAG_PHONE   count    percent  cumulative_count  cumulative_percent\n",
       "0           0  192634  71.664168            192634           71.664168\n",
       "1           1   76167  28.335832            268801          100.000000"
      ]
     },
     "execution_count": 13,
     "metadata": {},
     "output_type": "execute_result"
    }
   ],
   "source": [
    "new_df.stb.freq(['FLAG_PHONE'])"
   ]
  },
  {
   "cell_type": "code",
   "execution_count": 14,
   "id": "aa0abea7",
   "metadata": {},
   "outputs": [
    {
     "data": {
      "text/html": [
       "<div>\n",
       "<style scoped>\n",
       "    .dataframe tbody tr th:only-of-type {\n",
       "        vertical-align: middle;\n",
       "    }\n",
       "\n",
       "    .dataframe tbody tr th {\n",
       "        vertical-align: top;\n",
       "    }\n",
       "\n",
       "    .dataframe thead th {\n",
       "        text-align: right;\n",
       "    }\n",
       "</style>\n",
       "<table border=\"1\" class=\"dataframe\">\n",
       "  <thead>\n",
       "    <tr style=\"text-align: right;\">\n",
       "      <th></th>\n",
       "      <th>FLAG_EMAIL</th>\n",
       "      <th>count</th>\n",
       "      <th>percent</th>\n",
       "      <th>cumulative_count</th>\n",
       "      <th>cumulative_percent</th>\n",
       "    </tr>\n",
       "  </thead>\n",
       "  <tbody>\n",
       "    <tr>\n",
       "      <th>0</th>\n",
       "      <td>0</td>\n",
       "      <td>239708</td>\n",
       "      <td>89.176752</td>\n",
       "      <td>239708</td>\n",
       "      <td>89.176752</td>\n",
       "    </tr>\n",
       "    <tr>\n",
       "      <th>1</th>\n",
       "      <td>1</td>\n",
       "      <td>29093</td>\n",
       "      <td>10.823248</td>\n",
       "      <td>268801</td>\n",
       "      <td>100.000000</td>\n",
       "    </tr>\n",
       "  </tbody>\n",
       "</table>\n",
       "</div>"
      ],
      "text/plain": [
       "   FLAG_EMAIL   count    percent  cumulative_count  cumulative_percent\n",
       "0           0  239708  89.176752            239708           89.176752\n",
       "1           1   29093  10.823248            268801          100.000000"
      ]
     },
     "execution_count": 14,
     "metadata": {},
     "output_type": "execute_result"
    }
   ],
   "source": [
    "new_df.stb.freq(['FLAG_EMAIL'])"
   ]
  },
  {
   "cell_type": "markdown",
   "id": "1d6d139b",
   "metadata": {},
   "source": [
    "**Conclusiones:** \n",
    "\n",
    "*   Podemos detectar que el 100% de las personas a analizar de nuestro dataset posee teléfono móvil. \n",
    "*   El 70,44% posee teléfono fijo. \n",
    "*   Observamos que el 89,73% no posee correo electrónico."
   ]
  },
  {
   "cell_type": "markdown",
   "id": "6d62577c",
   "metadata": {},
   "source": [
    "## GRAFICOS"
   ]
  },
  {
   "cell_type": "markdown",
   "id": "a7ee0ba3",
   "metadata": {},
   "source": [
    "### Variables analizadas: \n",
    "* OCCUPATION_TYPE\n",
    "* CODE_GENDER\n",
    "* NAME_INCOME_TYPE\n",
    "* AMT_INCOME_TOTAL"
   ]
  },
  {
   "cell_type": "code",
   "execution_count": 15,
   "id": "026ce3a9",
   "metadata": {},
   "outputs": [
    {
     "data": {
      "image/png": "[encoded data removed]",
      "text/plain": [
       "<Figure size 576x432 with 1 Axes>"
      ]
     },
     "metadata": {},
     "output_type": "display_data"
    }
   ],
   "source": [
    "sns.set(style=\"white\", rc={\"lines.linewidth\": 2})\n",
    "fig, axes = plt.subplots(figsize=(8,6))\n",
    "fig.autofmt_xdate(rotation=45)\n",
    "sns.histplot(x='OCCUPATION_TYPE', # variable\n",
    "            data=new_df , #datasets\n",
    "            color='hotpink',#color de las barras\n",
    "            ax=axes, # asignacion del grafico al lienzo\n",
    "            ).set(title='Histograma de tipos de ocupación por cantidad'); #kde = grafico de densidad"
   ]
  },
  {
   "cell_type": "markdown",
   "id": "4145548e",
   "metadata": {},
   "source": [
    "Comprobamos visualmente que la mayoría de personas que solicitan prestamo son trabajadores (Laborers) seguido por cantidades muy parejas de personas que trabajan en Core Staff y Sales Staff "
   ]
  },
  {
   "cell_type": "code",
   "execution_count": 16,
   "id": "d4a1584f",
   "metadata": {},
   "outputs": [
    {
     "data": {
      "image/png": "[encoded data removed]",
      "text/plain": [
       "<Figure size 576x432 with 1 Axes>"
      ]
     },
     "metadata": {},
     "output_type": "display_data"
    }
   ],
   "source": [
    "sns.set(style=\"white\", rc={\"lines.linewidth\": 2})\n",
    "fig, axes = plt.subplots(figsize=(8,6))\n",
    "sns.histplot(x='CODE_GENDER', # variable\n",
    "            data=new_df , #datasets\n",
    "            color='red',#color de las barras\n",
    "            ax=axes, # asignacion del grafico al lienzo\n",
    "            ).set(title='Histograma con grafico de densidad'); #kde = grafico de densidad"
   ]
  },
  {
   "cell_type": "markdown",
   "id": "8745c203",
   "metadata": {},
   "source": [
    "Las personas identificadas con el género femenino superan ampliamente al masculino en la muestra, tal como corroboramos previamente en el análisis de Tabla de Frecuencias"
   ]
  },
  {
   "cell_type": "code",
   "execution_count": 17,
   "id": "4425fa22",
   "metadata": {},
   "outputs": [
    {
     "data": {
      "image/png": "[encoded data removed]",
      "text/plain": [
       "<Figure size 576x432 with 1 Axes>"
      ]
     },
     "metadata": {},
     "output_type": "display_data"
    }
   ],
   "source": [
    "sns.set(style=\"white\", rc={\"lines.linewidth\": 2})\n",
    "fig, axes = plt.subplots(figsize=(8,6))\n",
    "fig.autofmt_xdate(rotation=45)\n",
    "sns.histplot(x='NAME_INCOME_TYPE', # variable\n",
    "            data=new_df , #datasets\n",
    "            color='blue',#color de las barras\n",
    "            ax=axes, # asignacion del grafico al lienzo\n",
    "            ).set(title='Histograma con grafico de densidad para tipo de ingreso'); #kde = grafico de densidad"
   ]
  },
  {
   "cell_type": "markdown",
   "id": "db834fb7",
   "metadata": {},
   "source": [
    "Comprobamos nuevamente de forma visual que las personas que poseen algún tipo de trabajo son las que en su mayoría solicitan los préstamos"
   ]
  },
  {
   "cell_type": "code",
   "execution_count": 18,
   "id": "5fc96a17",
   "metadata": {},
   "outputs": [
    {
     "name": "stderr",
     "output_type": "stream",
     "text": [
      "C:\\ProgramData\\Anaconda3\\lib\\site-packages\\seaborn\\distributions.py:2619: FutureWarning: `distplot` is a deprecated function and will be removed in a future version. Please adapt your code to use either `displot` (a figure-level function with similar flexibility) or `histplot` (an axes-level function for histograms).\n",
      "  warnings.warn(msg, FutureWarning)\n"
     ]
    },
    {
     "data": {
      "text/plain": [
       "<matplotlib.legend.Legend at 0x20204f73fa0>"
      ]
     },
     "execution_count": 18,
     "metadata": {},
     "output_type": "execute_result"
    },
    {
     "data": {
      "image/png": "[encoded data removed]",
      "text/plain": [
       "<Figure size 1440x576 with 1 Axes>"
      ]
     },
     "metadata": {},
     "output_type": "display_data"
    }
   ],
   "source": [
    "from seaborn import distplot\n",
    "fig, axes = plt.subplots(figsize=(20,8))\n",
    "sns.distplot(df.AMT_INCOME_TOTAL)\n",
    "plt.axvline(x=np.mean(df.AMT_INCOME_TOTAL), c='red', ls='--', label='mean')\n",
    "plt.axvline(x=np.percentile(df.AMT_INCOME_TOTAL,25),c='green', ls='--', label = '25th percentile:Q1')\n",
    "plt.axvline(x=np.percentile(df.AMT_INCOME_TOTAL,75),c='orange', ls='--',label = '75th percentile:Q3' )\n",
    "plt.legend()"
   ]
  },
  {
   "cell_type": "code",
   "execution_count": 19,
   "id": "9e61af71",
   "metadata": {},
   "outputs": [
    {
     "name": "stderr",
     "output_type": "stream",
     "text": [
      "C:\\ProgramData\\Anaconda3\\lib\\site-packages\\seaborn\\distributions.py:2619: FutureWarning: `distplot` is a deprecated function and will be removed in a future version. Please adapt your code to use either `displot` (a figure-level function with similar flexibility) or `histplot` (an axes-level function for histograms).\n",
      "  warnings.warn(msg, FutureWarning)\n"
     ]
    },
    {
     "data": {
      "text/plain": [
       "<matplotlib.legend.Legend at 0x202053867c0>"
      ]
     },
     "execution_count": 19,
     "metadata": {},
     "output_type": "execute_result"
    },
    {
     "data": {
      "image/png": "[encoded data removed]",
      "text/plain": [
       "<Figure size 1440x576 with 1 Axes>"
      ]
     },
     "metadata": {},
     "output_type": "display_data"
    }
   ],
   "source": [
    "from seaborn import distplot\n",
    "fig, axes = plt.subplots(figsize=(20,8))\n",
    "sns.distplot(new_df.AMT_INCOME_TOTAL)\n",
    "plt.axvline(x=np.mean(new_df.AMT_INCOME_TOTAL), c='red', ls='--', label='mean')\n",
    "plt.axvline(x=np.percentile(new_df.AMT_INCOME_TOTAL,25),c='green', ls='--', label = '25th percentile:Q1')\n",
    "plt.axvline(x=np.percentile(new_df.AMT_INCOME_TOTAL,75),c='orange', ls='--',label = '75th percentile:Q3' )\n",
    "plt.legend()"
   ]
  },
  {
   "cell_type": "markdown",
   "id": "318b3f02",
   "metadata": {},
   "source": [
    "La variable AMT_INCOME_TOTAL estaba fuertemente desbalanceada en el df original, luego de la limpieza de varios de los datos atípicos podemos hacer un análisis con la parte más representativa de la población. \n",
    "\n",
    "Esta variable además nos da información sobre la cantidad de ingresos que tienen las personas que están solicitando un prestamo, los cuales el 75% no supera los 200.000 USD anuales. "
   ]
  },
  {
   "cell_type": "markdown",
   "id": "d3f21870",
   "metadata": {},
   "source": [
    "### Variables analizadas: \n",
    "* FLAG_MOBIL\n",
    "* FLAG_PHONE\n",
    "* FLAG_EMAIL"
   ]
  },
  {
   "cell_type": "code",
   "execution_count": 20,
   "id": "ef27219d",
   "metadata": {},
   "outputs": [
    {
     "data": {
      "image/png": "[encoded data removed]",
      "text/plain": [
       "<Figure size 576x432 with 1 Axes>"
      ]
     },
     "metadata": {},
     "output_type": "display_data"
    }
   ],
   "source": [
    "sns.set(style=\"dark\", rc={\"lines.linewidth\": 2})\n",
    "fig, axes = plt.subplots(figsize=(8,6))\n",
    "fig.autofmt_xdate(rotation=45)\n",
    "sns.histplot(x='FLAG_EMAIL', \n",
    "            data=new_df , \n",
    "            color='#c1207c',\n",
    "            ax=axes\n",
    "            ).set(title='CORREO ELECTRONICO'); "
   ]
  },
  {
   "cell_type": "code",
   "execution_count": 21,
   "id": "f9b5bece",
   "metadata": {},
   "outputs": [
    {
     "name": "stderr",
     "output_type": "stream",
     "text": [
      "C:\\ProgramData\\Anaconda3\\lib\\site-packages\\seaborn\\distributions.py:1699: FutureWarning: The `bw` parameter is deprecated in favor of `bw_method` and `bw_adjust`. Using 0.1 for `bw_method`, but please see the docs for the new parameters and update your code.\n",
      "  warnings.warn(msg, FutureWarning)\n"
     ]
    },
    {
     "data": {
      "image/png": "[encoded data removed]",
      "text/plain": [
       "<Figure size 720x576 with 1 Axes>"
      ]
     },
     "metadata": {},
     "output_type": "display_data"
    }
   ],
   "source": [
    "fig, axes = plt.subplots(figsize=(10,8))\n",
    "fig.autofmt_xdate(rotation=45)\n",
    "sns.set(style=\"darkgrid\")\n",
    "sns.kdeplot(new_df['FLAG_PHONE'], shade=True, bw=0.1, color=\"#345ac5\")\n",
    "plt.show()"
   ]
  },
  {
   "cell_type": "code",
   "execution_count": 22,
   "id": "8ed9b36b",
   "metadata": {},
   "outputs": [
    {
     "data": {
      "image/png": "[encoded data removed]",
      "text/plain": [
       "<Figure size 576x432 with 1 Axes>"
      ]
     },
     "metadata": {},
     "output_type": "display_data"
    }
   ],
   "source": [
    "sns.set(style=\"dark\", rc={\"lines.linewidth\": 2})\n",
    "fig, axes = plt.subplots(figsize=(8,6))\n",
    "fig.autofmt_xdate(rotation=45)\n",
    "sns.histplot(x='FLAG_MOBIL', \n",
    "            data=new_df , \n",
    "            color='#5dbe38',\n",
    "            ax=axes\n",
    "            ).set(title='TELÉFONO MÓVIL');"
   ]
  },
  {
   "cell_type": "markdown",
   "id": "54fe2c5a",
   "metadata": {},
   "source": [
    "### Variables analizadas: \n",
    "* NAME_HOUSING_TYPE\n",
    "* NAME_FAMILY_STATUS\n",
    "* FLAG_OWN_CAR"
   ]
  },
  {
   "cell_type": "code",
   "execution_count": 23,
   "id": "9dfaae82",
   "metadata": {},
   "outputs": [
    {
     "data": {
      "image/png": "[encoded data removed]",
      "text/plain": [
       "<Figure size 864x432 with 1 Axes>"
      ]
     },
     "metadata": {},
     "output_type": "display_data"
    }
   ],
   "source": [
    "fig , ax = plt.subplots(figsize=(12,6))\n",
    "ax = sns.countplot(x='NAME_HOUSING_TYPE',data=new_df)\n",
    "ax.set_title('Grafico de varibles')\n",
    "ax.set_xlabel('tipo de vivienda')\n",
    "ax.set_ylabel('Cantidad');"
   ]
  },
  {
   "cell_type": "markdown",
   "id": "af3b8ba4",
   "metadata": {},
   "source": [
    "Podemos observar que la gran mayoría de la población que solicita un crédito vive en un domicilio fijo, muy pocos son co-dependientes (riesgo de mudanzas frecuentes) y ninguna persona de la población vive en indigencia."
   ]
  },
  {
   "cell_type": "code",
   "execution_count": 24,
   "id": "5e69c592",
   "metadata": {},
   "outputs": [
    {
     "data": {
      "image/png": "[encoded data removed]",
      "text/plain": [
       "<Figure size 720x576 with 1 Axes>"
      ]
     },
     "metadata": {},
     "output_type": "display_data"
    }
   ],
   "source": [
    "fig , ax = plt.subplots(figsize=(10,8))\n",
    "ax = sns.countplot(x='NAME_FAMILY_STATUS',data=new_df)\n",
    "ax.set_title('Grafico de estatus familiar')\n",
    "ax.set_xlabel('Estado civil')\n",
    "ax.set_ylabel('Cantidad');"
   ]
  },
  {
   "cell_type": "markdown",
   "id": "93e1c37b",
   "metadata": {},
   "source": [
    "De manera visible y muy por encima del total hay una población que tiene vínculos legales lo que está relacionado directamente con compromisos económicos, sin descartar que haya una posible fortaleza economía (siendo 2 personas) o en caso de deuda, el conyugue pueda asumir la responabilidad de los pagos"
   ]
  },
  {
   "cell_type": "code",
   "execution_count": 25,
   "id": "e7e767ee",
   "metadata": {
    "scrolled": true
   },
   "outputs": [
    {
     "data": {
      "image/png": "[encoded data removed]",
      "text/plain": [
       "<Figure size 576x432 with 1 Axes>"
      ]
     },
     "metadata": {},
     "output_type": "display_data"
    }
   ],
   "source": [
    "sns.set(style=\"white\", rc={\"lines.linewidth\": 2})\n",
    "fig, axes = plt.subplots(figsize=(8,6))\n",
    "sns.histplot(x='FLAG_OWN_CAR',\n",
    "            data=new_df,\n",
    "            color='purple',\n",
    "            ax=axes,\n",
    "            ).set(title='Histograma con grafico de densidad propietario de vehículo', xlabel='FLAG_OWN_CAR', ylabel='Frecuencia absoluta');"
   ]
  },
  {
   "cell_type": "markdown",
   "id": "fb4f933f",
   "metadata": {},
   "source": [
    "Si bien la mayoría de la población no posee vehículo propio, la cantidad de personas que si poseen vehículos es superior a la mitad de los que no poseen."
   ]
  }
 ],
 "metadata": {
  "kernelspec": {
   "display_name": "Python 3 (ipykernel)",
   "language": "python",
   "name": "python3"
  },
  "language_info": {
   "codemirror_mode": {
    "name": "ipython",
    "version": 3
   },
   "file_extension": ".py",
   "mimetype": "text/x-python",
   "name": "python",
   "nbconvert_exporter": "python",
   "pygments_lexer": "ipython3",
   "version": "3.9.7"
  }
 },
 "nbformat": 4,
 "nbformat_minor": 5
}
