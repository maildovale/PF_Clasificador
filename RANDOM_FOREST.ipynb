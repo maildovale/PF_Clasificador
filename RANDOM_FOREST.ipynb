{
 "cells": [
  {
   "cell_type": "markdown",
   "id": "c7cb7b9b",
   "metadata": {},
   "source": [
    "### Random Forest \n",
    "Ahora seleccionaremos el segundo algoritmo para poder correr y entrenar el modelo y hacer más robusto nuestro modelo"
   ]
  },
  {
   "cell_type": "code",
   "execution_count": 3,
   "id": "0fab970a",
   "metadata": {},
   "outputs": [
    {
     "name": "stdout",
     "output_type": "stream",
     "text": [
      "Requirement already satisfied: sidetable in c:\\programdata\\anaconda3\\lib\\site-packages (0.9.0)\n",
      "Requirement already satisfied: pandas>=1.0 in c:\\programdata\\anaconda3\\lib\\site-packages (from sidetable) (1.3.4)\n",
      "Requirement already satisfied: python-dateutil>=2.7.3 in c:\\programdata\\anaconda3\\lib\\site-packages (from pandas>=1.0->sidetable) (2.8.2)\n",
      "Requirement already satisfied: numpy>=1.17.3 in c:\\programdata\\anaconda3\\lib\\site-packages (from pandas>=1.0->sidetable) (1.20.3)\n",
      "Requirement already satisfied: pytz>=2017.3 in c:\\programdata\\anaconda3\\lib\\site-packages (from pandas>=1.0->sidetable) (2021.3)\n",
      "Requirement already satisfied: six>=1.5 in c:\\programdata\\anaconda3\\lib\\site-packages (from python-dateutil>=2.7.3->pandas>=1.0->sidetable) (1.16.0)\n",
      "Requirement already satisfied: plotly in c:\\programdata\\anaconda3\\lib\\site-packages (5.10.0)\n",
      "Requirement already satisfied: tenacity>=6.2.0 in c:\\programdata\\anaconda3\\lib\\site-packages (from plotly) (8.0.1)\n",
      "Requirement already satisfied: sidetable in c:\\programdata\\anaconda3\\lib\\site-packages (0.9.0)\n",
      "Requirement already satisfied: pandas>=1.0 in c:\\programdata\\anaconda3\\lib\\site-packages (from sidetable) (1.3.4)\n",
      "Requirement already satisfied: pytz>=2017.3 in c:\\programdata\\anaconda3\\lib\\site-packages (from pandas>=1.0->sidetable) (2021.3)\n",
      "Requirement already satisfied: python-dateutil>=2.7.3 in c:\\programdata\\anaconda3\\lib\\site-packages (from pandas>=1.0->sidetable) (2.8.2)\n",
      "Requirement already satisfied: numpy>=1.17.3 in c:\\programdata\\anaconda3\\lib\\site-packages (from pandas>=1.0->sidetable) (1.20.3)\n",
      "Requirement already satisfied: six>=1.5 in c:\\programdata\\anaconda3\\lib\\site-packages (from python-dateutil>=2.7.3->pandas>=1.0->sidetable) (1.16.0)\n",
      "Requirement already satisfied: plotly in c:\\programdata\\anaconda3\\lib\\site-packages (5.10.0)\n",
      "Requirement already satisfied: tenacity>=6.2.0 in c:\\programdata\\anaconda3\\lib\\site-packages (from plotly) (8.0.1)\n",
      "Requirement already satisfied: sidetable in c:\\programdata\\anaconda3\\lib\\site-packages (0.9.0)\n",
      "Requirement already satisfied: pandas>=1.0 in c:\\programdata\\anaconda3\\lib\\site-packages (from sidetable) (1.3.4)\n",
      "Requirement already satisfied: numpy>=1.17.3 in c:\\programdata\\anaconda3\\lib\\site-packages (from pandas>=1.0->sidetable) (1.20.3)\n",
      "Requirement already satisfied: pytz>=2017.3 in c:\\programdata\\anaconda3\\lib\\site-packages (from pandas>=1.0->sidetable) (2021.3)\n",
      "Requirement already satisfied: python-dateutil>=2.7.3 in c:\\programdata\\anaconda3\\lib\\site-packages (from pandas>=1.0->sidetable) (2.8.2)\n",
      "Requirement already satisfied: six>=1.5 in c:\\programdata\\anaconda3\\lib\\site-packages (from python-dateutil>=2.7.3->pandas>=1.0->sidetable) (1.16.0)\n",
      "Requirement already satisfied: plotly in c:\\programdata\\anaconda3\\lib\\site-packages (5.10.0)\n",
      "Requirement already satisfied: tenacity>=6.2.0 in c:\\programdata\\anaconda3\\lib\\site-packages (from plotly) (8.0.1)\n",
      "Requirement already satisfied: sidetable in c:\\programdata\\anaconda3\\lib\\site-packages (0.9.0)\n",
      "Requirement already satisfied: pandas>=1.0 in c:\\programdata\\anaconda3\\lib\\site-packages (from sidetable) (1.3.4)\n",
      "Requirement already satisfied: numpy>=1.17.3 in c:\\programdata\\anaconda3\\lib\\site-packages (from pandas>=1.0->sidetable) (1.20.3)\n",
      "Requirement already satisfied: python-dateutil>=2.7.3 in c:\\programdata\\anaconda3\\lib\\site-packages (from pandas>=1.0->sidetable) (2.8.2)\n",
      "Requirement already satisfied: pytz>=2017.3 in c:\\programdata\\anaconda3\\lib\\site-packages (from pandas>=1.0->sidetable) (2021.3)\n",
      "Requirement already satisfied: six>=1.5 in c:\\programdata\\anaconda3\\lib\\site-packages (from python-dateutil>=2.7.3->pandas>=1.0->sidetable) (1.16.0)\n",
      "Requirement already satisfied: plotly in c:\\programdata\\anaconda3\\lib\\site-packages (5.10.0)\n",
      "Requirement already satisfied: tenacity>=6.2.0 in c:\\programdata\\anaconda3\\lib\\site-packages (from plotly) (8.0.1)\n",
      "None\n",
      "Col_number\n",
      "None\n",
      "Col_number\n",
      "Accuracy score for test data is: 0.9811011904761905\n",
      "             PREDICCION NO APROBADO  PREDICCION APROBADO\n",
      "NO APROBADO                    8790                  365\n",
      "APROBADO                        651                43954\n"
     ]
    },
    {
     "data": {
      "image/png": "[encoded data removed]",
      "text/plain": [
       "<Figure size 720x504 with 1 Axes>"
      ]
     },
     "metadata": {},
     "output_type": "display_data"
    },
    {
     "name": "stdout",
     "output_type": "stream",
     "text": [
      "Requirement already satisfied: pydotplus in c:\\programdata\\anaconda3\\lib\\site-packages (2.0.2)\n",
      "Requirement already satisfied: pyparsing>=2.0.1 in c:\\programdata\\anaconda3\\lib\\site-packages (from pydotplus) (3.0.4)\n",
      "Requirement already satisfied: graphviz in c:\\programdata\\anaconda3\\lib\\site-packages (0.20.1)\n",
      "dot: graph is too large for cairo-renderer bitmaps. Scaling by 0.778092 to fit\n",
      "\n",
      "Populating the interactive namespace from numpy and matplotlib\n"
     ]
    },
    {
     "name": "stderr",
     "output_type": "stream",
     "text": [
      "C:\\ProgramData\\Anaconda3\\lib\\site-packages\\IPython\\core\\magics\\pylab.py:159: UserWarning: pylab import has clobbered these variables: ['var', 'cm']\n",
      "`%matplotlib` prevents importing * from pylab and numpy\n",
      "  warn(\"pylab import has clobbered these variables: %s\"  % clobbered +\n"
     ]
    },
    {
     "data": {
      "image/png": "[encoded data removed]",
      "text/plain": [
       "<Figure size 432x288 with 1 Axes>"
      ]
     },
     "metadata": {
      "needs_background": "light"
     },
     "output_type": "display_data"
    }
   ],
   "source": [
    "#Corremos librerias y EDA para traer el dataframe limpio que estaremos usando\n",
    "%run ./START.ipynb\n",
    "%run ./EDA.ipynb\n",
    "%run ./DECISION_TREE.ipynb"
   ]
  },
  {
   "cell_type": "code",
   "execution_count": 10,
   "id": "3ef501e4",
   "metadata": {},
   "outputs": [
    {
     "data": {
      "text/plain": [
       "RandomForestClassifier(class_weight='balanced', max_features='log2',\n",
       "                       n_estimators=5, random_state=5050)"
      ]
     },
     "execution_count": 10,
     "metadata": {},
     "output_type": "execute_result"
    }
   ],
   "source": [
    "#Creamos un random forest! random_state = semilla\n",
    "RFmodel = RandomForestClassifier(random_state=5050, n_estimators=5, class_weight=\"balanced\", max_features=\"log2\")\n",
    "RFmodel.fit(x_train, y_train)"
   ]
  },
  {
   "cell_type": "code",
   "execution_count": 5,
   "id": "11c54b71",
   "metadata": {},
   "outputs": [
    {
     "data": {
      "text/plain": [
       "0.9814360119047619"
      ]
     },
     "execution_count": 5,
     "metadata": {},
     "output_type": "execute_result"
    }
   ],
   "source": [
    "RFmodel.score(df_all_test, y_pred_test) # n_estimators=1000"
   ]
  },
  {
   "cell_type": "code",
   "execution_count": 7,
   "id": "6d939ebc",
   "metadata": {},
   "outputs": [
    {
     "data": {
      "text/plain": [
       "0.9815290178571429"
      ]
     },
     "execution_count": 7,
     "metadata": {},
     "output_type": "execute_result"
    }
   ],
   "source": [
    "RFmodel.score(df_all_test, y_pred_test) # n_estimators=500"
   ]
  },
  {
   "cell_type": "code",
   "execution_count": 9,
   "id": "cbf7866c",
   "metadata": {},
   "outputs": [
    {
     "data": {
      "text/plain": [
       "0.9824032738095239"
      ]
     },
     "execution_count": 9,
     "metadata": {},
     "output_type": "execute_result"
    }
   ],
   "source": [
    "RFmodel.score(df_all_test, y_pred_test) # n_estimators=50"
   ]
  },
  {
   "cell_type": "code",
   "execution_count": 11,
   "id": "fcc5e7a8",
   "metadata": {},
   "outputs": [
    {
     "data": {
      "text/plain": [
       "0.9766369047619048"
      ]
     },
     "execution_count": 11,
     "metadata": {},
     "output_type": "execute_result"
    }
   ],
   "source": [
    "RFmodel.score(df_all_test, y_pred_test) #n_estimators=5"
   ]
  },
  {
   "cell_type": "markdown",
   "id": "2d03f6d2",
   "metadata": {},
   "source": [
    "Notamos que entre las 4 pruebas que se realizaron no obtuvimos mucha diferencia entre el margen 50 a 1000 pero notamos que el que se realizo con el número más alto dio el mejor resultado, por lo que decidimos quedarnos que el de 1000"
   ]
  },
  {
   "cell_type": "markdown",
   "id": "138c64fb",
   "metadata": {},
   "source": [
    "#### Métricas\n",
    "En este caso ultilizaremos el Accuracy como metrica para determinar que un modelo es mucho mejor que otro"
   ]
  },
  {
   "cell_type": "code",
   "execution_count": 13,
   "id": "8321a3a4",
   "metadata": {},
   "outputs": [
    {
     "data": {
      "text/plain": [
       "array([0, 0, 0, ..., 1, 0, 1], dtype=int64)"
      ]
     },
     "execution_count": 13,
     "metadata": {},
     "output_type": "execute_result"
    }
   ],
   "source": [
    "y_predicted = RFmodel.predict(df_all_test)\n",
    "y_predicted"
   ]
  },
  {
   "cell_type": "code",
   "execution_count": 14,
   "id": "0bbac9d3",
   "metadata": {},
   "outputs": [
    {
     "name": "stdout",
     "output_type": "stream",
     "text": [
      "             PREDICCION NO APROBADO  PREDICCION APROBADO\n",
      "NO APROBADO                    8402                  753\n",
      "APROBADO                        549                44056\n",
      "Accuracy score for test data is: 0.97578125\n"
     ]
    }
   ],
   "source": [
    "from sklearn.metrics import confusion_matrix\n",
    "cm2 = pd.DataFrame(confusion_matrix(y_test, y_predicted))\n",
    "\n",
    "cm2.index = ['NO APROBADO','APROBADO']\n",
    "cm2.columns = ['PREDICCION NO APROBADO','PREDICCION APROBADO']\n",
    "print(cm2)\n",
    "from sklearn.metrics import accuracy_score\n",
    "\n",
    "#accuracy\n",
    "print('Accuracy score for test data is:', accuracy_score(y_test, y_predicted)) "
   ]
  },
  {
   "cell_type": "markdown",
   "id": "ebc465b3",
   "metadata": {},
   "source": [
    "**Conclusión**\n",
    "\n",
    "Podemos notar que tenemos un Accuracy de 98,08%. \n",
    "Podemos notar que la cantidad de falsos positivos es de 639 y los falsos negativos es de 390"
   ]
  },
  {
   "cell_type": "code",
   "execution_count": 15,
   "id": "3bd9ed42",
   "metadata": {},
   "outputs": [
    {
     "data": {
      "text/plain": [
       "<AxesSubplot:>"
      ]
     },
     "execution_count": 15,
     "metadata": {},
     "output_type": "execute_result"
    },
    {
     "data": {
      "image/png": "[encoded data removed]",
      "text/plain": [
       "<Figure size 720x504 with 1 Axes>"
      ]
     },
     "metadata": {
      "needs_background": "light"
     },
     "output_type": "display_data"
    }
   ],
   "source": [
    "#Matriz De Confusión\n",
    "from sklearn.metrics import confusion_matrix, classification_report\n",
    "cm = confusion_matrix (y_test, y_predicted)\n",
    "fig, ax = plt.subplots(figsize=(10,7))\n",
    "sns.heatmap(cm, annot=True, cmap='OrRd', fmt='2g', cbar=None)"
   ]
  },
  {
   "cell_type": "markdown",
   "id": "70711a96",
   "metadata": {},
   "source": [
    "### **CONCLUSIÓN**\n",
    "\n",
    "Recordemos los resultados de los algoritmos que entrenamos.\n",
    "\n",
    "En el caso del \"Arbol de decisión\" fueron:\n",
    "\n",
    "*   Accuracy de 98,11%\n",
    "*   Falsos Positivos: 365\n",
    "*   Falsos Negativos: 651\n",
    "\n",
    "Y en el caso de del \"Random Forest\" tenemos:\n",
    "\n",
    "*   Accuracy de 98,08%\n",
    "*   Falsos Positivos: 639\n",
    "*   Falsos Negativos: 390\n",
    "\n",
    "Teniendo esto en cuenta, la conclusion a la que llegamos es que, a priori el algoritmo que mejor se adecua al plan de negocio es el Árbol de Decision, dado que los Falsos Positivos son menos que los del Random Forest.\n",
    "Ya que es mejor que el banco reciba reclamos por no poder sacar un credito, que ototgar un prestamos a alguien que no pueda pagarlo a futuro.\n"
   ]
  }
 ],
 "metadata": {
  "kernelspec": {
   "display_name": "Python 3 (ipykernel)",
   "language": "python",
   "name": "python3"
  },
  "language_info": {
   "codemirror_mode": {
    "name": "ipython",
    "version": 3
   },
   "file_extension": ".py",
   "mimetype": "text/x-python",
   "name": "python",
   "nbconvert_exporter": "python",
   "pygments_lexer": "ipython3",
   "version": "3.9.7"
  }
 },
 "nbformat": 4,
 "nbformat_minor": 5
}
